{
  "nbformat": 4,
  "nbformat_minor": 0,
  "metadata": {
    "colab": {
      "name": "Assignment Unit2 L_3",
      "provenance": [],
      "authorship_tag": "ABX9TyNnxJZyg/87B8AUagXOhniu",
      "include_colab_link": true
    },
    "kernelspec": {
      "name": "python3",
      "display_name": "Python 3"
    },
    "language_info": {
      "name": "python"
    }
  },
  "cells": [
    {
      "cell_type": "markdown",
      "metadata": {
        "id": "view-in-github",
        "colab_type": "text"
      },
      "source": [
        "<a href=\"https://colab.research.google.com/github/Safietouba/Python/blob/main/Assignment_Unit2_L_3.ipynb\" target=\"_parent\"><img src=\"https://colab.research.google.com/assets/colab-badge.svg\" alt=\"Open In Colab\"/></a>"
      ]
    },
    {
      "cell_type": "code",
      "execution_count": 5,
      "metadata": {
        "id": "h-FoaRzw-a4U",
        "colab": {
          "base_uri": "https://localhost:8080/"
        },
        "outputId": "407f948c-25ac-4884-9e50-78e56e030436"
      },
      "outputs": [
        {
          "output_type": "stream",
          "name": "stdout",
          "text": [
            "('Wiri wiri', 'Confrontation', 'TGP', 'Ninja Warriors', 'Masterchef')\n"
          ]
        }
      ],
      "source": [
        "# 1. Create a list of 5 of your favorite tv shows.\n",
        "tv_shows = ['Wiri wiri','Confrontation','TGP','Ninja Warriors','Masterchef']\n",
        "print(tv_shows)\n",
        "# 2. Print the list in its original order.\n"
      ]
    },
    {
      "cell_type": "code",
      "source": [
        "# 3.\tUse the sorted() function to print the list in alphabetical order.  How is sorted() different from sort()?\n",
        "tv_shows = ['Wiri wiri','Confrontation','TGP','Ninja Warriors','Masterchef']\n",
        "print(tv_shows)\n",
        "tv_shows.sort()\n",
        "print(tv_shows)\n",
        "# 4.\tPrint out your original list.\n",
        "# 5.\tUsed sorted() to print your list in reverse alphabetical order\n",
        "print(tv_shows)\n",
        "tv_shows.sort(reverse=True)\n",
        "print(tv_shows)"
      ],
      "metadata": {
        "colab": {
          "base_uri": "https://localhost:8080/"
        },
        "id": "CpoEkpyRZjDT",
        "outputId": "9a96509a-fad0-4438-c536-f7da970c8155"
      },
      "execution_count": 20,
      "outputs": [
        {
          "output_type": "stream",
          "name": "stdout",
          "text": [
            "['Wiri wiri', 'Confrontation', 'TGP', 'Ninja Warriors', 'Masterchef']\n",
            "['Confrontation', 'Masterchef', 'Ninja Warriors', 'TGP', 'Wiri wiri']\n",
            "['Confrontation', 'Masterchef', 'Ninja Warriors', 'TGP', 'Wiri wiri']\n",
            "['Wiri wiri', 'TGP', 'Ninja Warriors', 'Masterchef', 'Confrontation']\n"
          ]
        }
      ]
    },
    {
      "cell_type": "code",
      "source": [
        "# 6.\tCreate a message indicating how many favorite TV shows you have – use the len() function.\n",
        "tv_shows = ['Wiri wiri','Confrontation','TGP','Ninja Warriors','Masterchef']\n",
        "print(tv_shows)\n",
        "len(tv_shows)"
      ],
      "metadata": {
        "colab": {
          "base_uri": "https://localhost:8080/"
        },
        "id": "GKHGsXpEeFun",
        "outputId": "28c7e8b5-552c-46d6-d028-a25029d07cd9"
      },
      "execution_count": 23,
      "outputs": [
        {
          "output_type": "stream",
          "name": "stdout",
          "text": [
            "['Wiri wiri', 'Confrontation', 'TGP', 'Ninja Warriors', 'Masterchef']\n"
          ]
        },
        {
          "output_type": "execute_result",
          "data": {
            "text/plain": [
              "5"
            ]
          },
          "metadata": {},
          "execution_count": 23
        }
      ]
    }
  ]
}