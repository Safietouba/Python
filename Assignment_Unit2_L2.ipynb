{
  "nbformat": 4,
  "nbformat_minor": 0,
  "metadata": {
    "colab": {
      "name": "Assignment Unit2-L2",
      "provenance": [],
      "collapsed_sections": [],
      "authorship_tag": "ABX9TyP3sSMcjqbmyyujP3sjLDJ+",
      "include_colab_link": true
    },
    "kernelspec": {
      "name": "python3",
      "display_name": "Python 3"
    },
    "language_info": {
      "name": "python"
    }
  },
  "cells": [
    {
      "cell_type": "markdown",
      "metadata": {
        "id": "view-in-github",
        "colab_type": "text"
      },
      "source": [
        "<a href=\"https://colab.research.google.com/github/Safietouba/Python/blob/main/Assignment_Unit2_L2.ipynb\" target=\"_parent\"><img src=\"https://colab.research.google.com/assets/colab-badge.svg\" alt=\"Open In Colab\"/></a>"
      ]
    },
    {
      "cell_type": "markdown",
      "source": [
        "Name: Ndeye Safietou Mbaye Ba\n",
        "Python for Data Analytics\n",
        "\n",
        "1) What is Python and why is it useful?\n",
        "Python is an open-source, object-oriented, high-level programming language. It is a general purpose language. This means that it can be used to develop just about anything, thanks to numerous tools and libraries.\n",
        "\n",
        "2)\tAre the following variable names allowed in python?\n",
        "a.\t1_message  **No**\n",
        "b.\tGreeting_message **Yes**\n",
        "c.\tMessage_1 **Yes**\n",
        "d.\tFirst name **Non**\n",
        "e.\tFull_name **Yes**\n",
        "\n"
      ],
      "metadata": {
        "id": "2_xWFQWjQsPX"
      }
    },
    {
      "cell_type": "code",
      "source": [
        "# 3)\tCreate a variable that holds the string “hello there!”\n",
        "str_a = 'hello'\n",
        "str_b ='there'\n",
        "str_c = str_a +' '+ str_b +'!'\n",
        "print(str_c)"
      ],
      "metadata": {
        "colab": {
          "base_uri": "https://localhost:8080/"
        },
        "id": "3J2lbVaxRjCj",
        "outputId": "20de7e2d-175e-4ae8-d530-ccacdf665908"
      },
      "execution_count": 2,
      "outputs": [
        {
          "output_type": "stream",
          "name": "stdout",
          "text": [
            "hello there!\n"
          ]
        }
      ]
    },
    {
      "cell_type": "code",
      "source": [
        "# 4)\tCreate a variable for first name, last name and an email extension.  Concatenating all three together to form an email address.  For example: firstnamelastname@gmail.com\n",
        "first_name = 'apple'\n",
        "last_name ='banana'\n",
        "email_ext ='@','gmail','.','com'\n",
        "email = 'apple'+'banana'+'@'+'gmail'+'.'+'com'\n",
        "print(email)"
      ],
      "metadata": {
        "colab": {
          "base_uri": "https://localhost:8080/"
        },
        "id": "E-evdwrnRrtt",
        "outputId": "8e0b5b71-c8bb-4790-faba-6e69dd2ec72e"
      },
      "execution_count": 8,
      "outputs": [
        {
          "output_type": "stream",
          "name": "stdout",
          "text": [
            "applebanana@gmail.com\n"
          ]
        }
      ]
    },
    {
      "cell_type": "code",
      "source": [
        "# 5)\tStore someone you know name in a variable called name.  Print their name in lower and uppercase using a method.\n",
        "\n",
        "name = 'samba laobe'\n",
        "print(name.upper())\n",
        "print(name.lower())"
      ],
      "metadata": {
        "colab": {
          "base_uri": "https://localhost:8080/"
        },
        "id": "_AsDuXciR4Uz",
        "outputId": "705a0068-a2df-47ff-80fb-808d97031cfb"
      },
      "execution_count": 10,
      "outputs": [
        {
          "output_type": "stream",
          "name": "stdout",
          "text": [
            "SAMBA LAOBE\n",
            "samba laobe\n"
          ]
        }
      ]
    },
    {
      "cell_type": "code",
      "source": [
        "from typing import Text\n",
        "# 6)\tUsing a variable, ask your friend if they want to hang out on the 15th of the month.  For example, “Do you want to hang out on the 15th of this month?”  You should have to convert the number to a string.\n",
        "fun = \"Sofia, do you want to hang out on the {}th of July?\"\n",
        "date = 15\n",
        "print(fun.format(date))\n"
      ],
      "metadata": {
        "colab": {
          "base_uri": "https://localhost:8080/"
        },
        "id": "4OpZfF9wRhFt",
        "outputId": "9f55b179-1a34-4edf-d2df-f9d519c41240"
      },
      "execution_count": 22,
      "outputs": [
        {
          "output_type": "stream",
          "name": "stdout",
          "text": [
            "Sofia, do you want to hang out on the 15th of July?\n"
          ]
        }
      ]
    }
  ]
}