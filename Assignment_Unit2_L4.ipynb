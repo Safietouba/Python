{
  "nbformat": 4,
  "nbformat_minor": 0,
  "metadata": {
    "colab": {
      "name": "Assignment Unit2_L4",
      "provenance": [],
      "authorship_tag": "ABX9TyPZ/tboh6xlWAD9NU7o4HQ6",
      "include_colab_link": true
    },
    "kernelspec": {
      "name": "python3",
      "display_name": "Python 3"
    },
    "language_info": {
      "name": "python"
    }
  },
  "cells": [
    {
      "cell_type": "markdown",
      "metadata": {
        "id": "view-in-github",
        "colab_type": "text"
      },
      "source": [
        "<a href=\"https://colab.research.google.com/github/Safietouba/Python/blob/main/Assignment_Unit2_L4.ipynb\" target=\"_parent\"><img src=\"https://colab.research.google.com/assets/colab-badge.svg\" alt=\"Open In Colab\"/></a>"
      ]
    },
    {
      "cell_type": "code",
      "execution_count": 8,
      "metadata": {
        "colab": {
          "base_uri": "https://localhost:8080/"
        },
        "id": "yVsXZ_DViMT2",
        "outputId": "e8bad9ba-2ff9-4e5d-d270-3119463a4b77"
      },
      "outputs": [
        {
          "output_type": "stream",
          "name": "stdout",
          "text": [
            "thiep\n",
            "mafe\n",
            "soupe\n",
            "domoda\n",
            "souloukhou\n"
          ]
        }
      ],
      "source": [
        "menus = ['thiep','mafe','soupe','domoda','souloukhou']\n",
        "for nekh in menus:\n",
        "  print(nekh)\n",
        "# 1. Create a list that holds 5 data variables.\n",
        "# 2. Print out those variables by using a for loop."
      ]
    },
    {
      "cell_type": "code",
      "source": [
        "menus = ['thiep','mafe','soupe','domoda','souloukhou']\n",
        "for nekh in menus:\n",
        "  print(nekh.title() + \", is my favorite dish!\")\n",
        "  \n",
        "# 3. Modify your for loop to add a message to your for loop. "
      ],
      "metadata": {
        "colab": {
          "base_uri": "https://localhost:8080/"
        },
        "id": "kNuPpG6Tmkya",
        "outputId": "9eabceb8-c99e-4506-a379-9b6bc2a83735"
      },
      "execution_count": 11,
      "outputs": [
        {
          "output_type": "stream",
          "name": "stdout",
          "text": [
            "Thiep, is my favorite dish!\n",
            "Mafe, is my favorite dish!\n",
            "Soupe, is my favorite dish!\n",
            "Domoda, is my favorite dish!\n",
            "Souloukhou, is my favorite dish!\n"
          ]
        }
      ]
    },
    {
      "cell_type": "code",
      "source": [
        "# 4. Use a for loop to print even numbers from 1-20.\n",
        "for num in range(1,21):\n",
        "  print(num)"
      ],
      "metadata": {
        "colab": {
          "base_uri": "https://localhost:8080/"
        },
        "id": "zBYeVOz3omQg",
        "outputId": "bcff3ff9-37b4-4bf1-8375-13a324e0657a"
      },
      "execution_count": 13,
      "outputs": [
        {
          "output_type": "stream",
          "name": "stdout",
          "text": [
            "1\n",
            "2\n",
            "3\n",
            "4\n",
            "5\n",
            "6\n",
            "7\n",
            "8\n",
            "9\n",
            "10\n",
            "11\n",
            "12\n",
            "13\n",
            "14\n",
            "15\n",
            "16\n",
            "17\n",
            "18\n",
            "19\n",
            "20\n"
          ]
        }
      ]
    },
    {
      "cell_type": "code",
      "source": [
        "# 5. Sort your list in alphabetic order.\n",
        "menus = ['thiep','mafe','soupe','domoda','souloukhou']\n",
        "menus.sort()\n",
        "print(menus)\n",
        "# 6 . Print out the first three elements of your list.\n",
        "print(menus[0:3])\n",
        "# 7. Create a loop to print the last 2 elements of your list.\n",
        "print(menus[-2:])"
      ],
      "metadata": {
        "colab": {
          "base_uri": "https://localhost:8080/"
        },
        "id": "nR4omGSnpjI0",
        "outputId": "714eb95d-a78b-4e37-f7b8-0bc1d2b731db"
      },
      "execution_count": 19,
      "outputs": [
        {
          "output_type": "stream",
          "name": "stdout",
          "text": [
            "['domoda', 'mafe', 'souloukhou', 'soupe', 'thiep']\n",
            "['domoda', 'mafe', 'souloukhou']\n",
            "['soupe', 'thiep']\n"
          ]
        }
      ]
    },
    {
      "cell_type": "code",
      "source": [
        ""
      ],
      "metadata": {
        "id": "fx7MQ_iwqh0x"
      },
      "execution_count": null,
      "outputs": []
    }
  ]
}