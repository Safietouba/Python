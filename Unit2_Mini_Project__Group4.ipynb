{
  "nbformat": 4,
  "nbformat_minor": 0,
  "metadata": {
    "colab": {
      "name": "Unit2 Mini Project _Group4",
      "provenance": [],
      "authorship_tag": "ABX9TyPlAG5IlWeaxb70bL1kg3FB",
      "include_colab_link": true
    },
    "kernelspec": {
      "name": "python3",
      "display_name": "Python 3"
    },
    "language_info": {
      "name": "python"
    }
  },
  "cells": [
    {
      "cell_type": "markdown",
      "metadata": {
        "id": "view-in-github",
        "colab_type": "text"
      },
      "source": [
        "<a href=\"https://colab.research.google.com/github/Safietouba/Python/blob/main/Unit2_Mini_Project__Group4.ipynb\" target=\"_parent\"><img src=\"https://colab.research.google.com/assets/colab-badge.svg\" alt=\"Open In Colab\"/></a>"
      ]
    },
    {
      "cell_type": "code",
      "execution_count": 11,
      "metadata": {
        "colab": {
          "base_uri": "https://localhost:8080/"
        },
        "id": "GBcMJnG-RTe5",
        "outputId": "5bb788f2-d1c1-4cc0-ca0f-2dfab1c0abde"
      },
      "outputs": [
        {
          "output_type": "stream",
          "name": "stdout",
          "text": [
            "Enter a number:10\n",
            "You picked an even number\n",
            "10 is a multiple of 2\n"
          ]
        }
      ],
      "source": [
        "num = int(input(\"Enter a number:\"))\n",
        "mod = num % 5\n",
        "if mod > 0:\n",
        "  print(\"You picked an odd number.\")\n",
        "else:\n",
        "  print(\"You picked an even number\")\n",
        "if num % 2 == 0:\n",
        "  print(num,\"is a multiple of 2\")\n"
      ]
    }
  ]
}